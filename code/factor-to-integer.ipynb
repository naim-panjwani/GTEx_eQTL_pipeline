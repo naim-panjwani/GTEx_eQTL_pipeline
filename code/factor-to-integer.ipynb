{
 "cells": [
  {
   "cell_type": "markdown",
   "id": "18e100f3",
   "metadata": {},
   "source": [
    "# Load covariates file"
   ]
  },
  {
   "cell_type": "code",
   "execution_count": null,
   "id": "a90df992",
   "metadata": {},
   "outputs": [],
   "source": [
    "setwd(\"../\")\n",
    "library(data.table)"
   ]
  },
  {
   "cell_type": "code",
   "execution_count": null,
   "id": "2a9c56d7",
   "metadata": {},
   "outputs": [],
   "source": [
    "covar <- read.table(\"data/phenotypes/GTEx_Subjects_covariates.txt\")\n",
    "tcovar <- t(covar)\n",
    "colnames(tcovar) <- covar[,1]\n",
    "tcovar <- tcovar[-1,]\n",
    "rownames(tcovar) <- NULL\n",
    "tcovar <- data.table(tcovar)\n",
    "head(tcovar)"
   ]
  },
  {
   "cell_type": "code",
   "execution_count": null,
   "id": "fc612b73",
   "metadata": {},
   "outputs": [],
   "source": [
    "tcovar$Protocol <- as.integer(as.factor(tcovar$Protocol))\n",
    "tcovar$Platform <- as.integer(as.factor(tcovar$Platform))\n",
    "str(tcovar)"
   ]
  },
  {
   "cell_type": "code",
   "execution_count": null,
   "id": "5dc9d362",
   "metadata": {},
   "outputs": [],
   "source": [
    "table(tcovar$Protocol)\n",
    "table(tcovar$Platform)"
   ]
  },
  {
   "cell_type": "code",
   "execution_count": null,
   "id": "cd286629",
   "metadata": {},
   "outputs": [],
   "source": [
    "covar <- data.frame(t(tcovar))\n",
    "head(covar)"
   ]
  },
  {
   "cell_type": "code",
   "execution_count": null,
   "id": "44f749f8",
   "metadata": {},
   "outputs": [],
   "source": [
    "fwrite(covar, \"data/phenotypes/GTEx_Subjects_covariates_numeric.txt\"\n",
    "      ,quote=F, row.names=T, col.names=F, sep=\"\\t\")"
   ]
  },
  {
   "cell_type": "code",
   "execution_count": null,
   "id": "eedcd451",
   "metadata": {},
   "outputs": [],
   "source": []
  }
 ],
 "metadata": {
  "kernelspec": {
   "display_name": "R",
   "language": "R",
   "name": "ir"
  },
  "language_info": {
   "codemirror_mode": "r",
   "file_extension": ".r",
   "mimetype": "text/x-r-source",
   "name": "R",
   "pygments_lexer": "r",
   "version": "3.6.1"
  }
 },
 "nbformat": 4,
 "nbformat_minor": 5
}
